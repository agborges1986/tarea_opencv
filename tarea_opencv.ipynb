{
 "cells": [
  {
   "cell_type": "code",
   "execution_count": 1,
   "metadata": {},
   "outputs": [],
   "source": [
    "import cv2\n",
    "import sys\n",
    "import os"
   ]
  },
  {
   "cell_type": "code",
   "execution_count": 10,
   "metadata": {},
   "outputs": [],
   "source": [
    "#this storage de actual directory\n",
    "\n",
    "dir_actual=os.path.abspath(os.getcwd())\n",
    "img_dir = dir_actual+\"/img/\"\n",
    "\n",
    "contenido = os.listdir(img_dir)\n",
    "\n"
   ]
  },
  {
   "cell_type": "code",
   "execution_count": 11,
   "metadata": {},
   "outputs": [],
   "source": [
    "# Change the imagePath for your image path in this directory\n",
    "\n",
    "imagePath=[]\n",
    "\n",
    "for fichero in contenido:\n",
    "    if os.path.isfile(os.path.join(img_dir, fichero)) and fichero.endswith('.jpg'):\n",
    "        imagePath.append(img_dir+fichero)\n",
    "\n",
    "#This Cascada Classifier use de haarcascade_frontalface_default.xml\n",
    "#Can use other file .xml in the directory /haarcascades or download of Opencv Github\n",
    "\n",
    "cascPath = dir_actual+\"/haarcascades/haarcascade_frontalface_default.xml\""
   ]
  },
  {
   "cell_type": "code",
   "execution_count": 12,
   "metadata": {},
   "outputs": [],
   "source": [
    "# Create the classifier haar cascade\n",
    "\n",
    "faceCascade = cv2.CascadeClassifier(cascPath)"
   ]
  },
  {
   "cell_type": "code",
   "execution_count": 13,
   "metadata": {},
   "outputs": [
    {
     "data": {
      "text/plain": [
       "['C:\\\\Users\\\\Jefe Operaciones\\\\tarea_opencv/img/active-2739217_1920.jpg',\n",
       " 'C:\\\\Users\\\\Jefe Operaciones\\\\tarea_opencv/img/meeting-person.jpg',\n",
       " 'C:\\\\Users\\\\Jefe Operaciones\\\\tarea_opencv/img/women.jpg']"
      ]
     },
     "execution_count": 13,
     "metadata": {},
     "output_type": "execute_result"
    }
   ],
   "source": [
    "imagePath"
   ]
  },
  {
   "cell_type": "code",
   "execution_count": 16,
   "metadata": {},
   "outputs": [
    {
     "name": "stdout",
     "output_type": "stream",
     "text": [
      "C:\\Users\\Jefe Operaciones\\tarea_opencv/img/active-2739217_1920.jpg\n",
      "C:\\Users\\Jefe Operaciones\\tarea_opencv/img/meeting-person.jpg\n",
      "C:\\Users\\Jefe Operaciones\\tarea_opencv/img/women.jpg\n"
     ]
    }
   ],
   "source": [
    "#Read all image in the /img folder, detect faces an\n",
    "count=0\n",
    "for i in imagePath:\n",
    "    # Read the image\n",
    "    image = cv2.imread(i)\n",
    "    print(i)\n",
    "    \n",
    "    gray = cv2.cvtColor(image, cv2.COLOR_BGR2GRAY)\n",
    "    # Detect faces in the image\n",
    "    faces = faceCascade.detectMultiScale(\n",
    "        gray,\n",
    "        scaleFactor=1.1,\n",
    "        minNeighbors=2,\n",
    "        minSize=(10, 10),\n",
    "        flags = cv2.CASCADE_SCALE_IMAGE\n",
    "    )\n",
    "    # Draw a rectangle around the faces\n",
    "\n",
    "    for (x, y, w, h) in faces:\n",
    "        cv2.rectangle(image, (x, y), (x+w, y+h), (0, 255, 0), 2)\n",
    "\n",
    "    #Show Results\n",
    "\n",
    "    cv2.imshow(\"Faces_found\", image)\n",
    "    cv2.waitKey(0)\n",
    "\n",
    "    #Save result in folder /img/outputs\n",
    "\n",
    "    cv2.imwrite('img/outputs/Faces_Found'+str(count)+'.png',image)\n",
    "    count=+1"
   ]
  },
  {
   "cell_type": "code",
   "execution_count": 139,
   "metadata": {},
   "outputs": [],
   "source": [
    "#This section is for detect face with WebCam and the classifier haar cascade\n",
    "\n",
    "# Create the classifier haar cascade\n",
    "\n",
    "faceCascadeVideo = cv2.CascadeClassifier(cascPath)\n",
    "\n",
    "video_capture = cv2.VideoCapture(0)\n",
    "\n",
    "while True:\n",
    "    # Capture frame-by-frame\n",
    "    ret, frame = video_capture.read()\n",
    "\n",
    "    gray = cv2.cvtColor(frame, cv2.COLOR_BGR2GRAY)\n",
    "\n",
    "    faces = faceCascadeVideo.detectMultiScale(\n",
    "        gray,\n",
    "        scaleFactor=1.1,\n",
    "        minNeighbors=5,\n",
    "        minSize=(30, 30),\n",
    "        flags=cv2.cv2.CASCADE_SCALE_IMAGE\n",
    "    )\n",
    "\n",
    "    # Draw a rectangle around the faces\n",
    "    for (x, y, w, h) in faces:\n",
    "        cv2.rectangle(frame, (x, y), (x+w, y+h), (0, 255, 0), 2)\n",
    "\n",
    "    # Display the resulting frame\n",
    "    cv2.imshow('Video', frame)\n",
    "\n",
    "    #Salir con la tecla q\n",
    "    if cv2.waitKey(1) & 0xFF == ord('q'):\n",
    "        break\n",
    "\n",
    "# When everything is done, release the capture\n",
    "video_capture.release()\n",
    "cv2.destroyAllWindows()"
   ]
  },
  {
   "cell_type": "code",
   "execution_count": null,
   "metadata": {},
   "outputs": [],
   "source": []
  }
 ],
 "metadata": {
  "kernelspec": {
   "display_name": "Python 3",
   "language": "python",
   "name": "python3"
  },
  "language_info": {
   "codemirror_mode": {
    "name": "ipython",
    "version": 3
   },
   "file_extension": ".py",
   "mimetype": "text/x-python",
   "name": "python",
   "nbconvert_exporter": "python",
   "pygments_lexer": "ipython3",
   "version": "3.6.8"
  }
 },
 "nbformat": 4,
 "nbformat_minor": 2
}
